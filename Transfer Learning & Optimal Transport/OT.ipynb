{
  "nbformat": 4,
  "nbformat_minor": 0,
  "metadata": {
    "colab": {
      "name": "OT.ipynb",
      "provenance": [],
      "collapsed_sections": [
        "gkG9PDn6Tnop",
        "pbAzVVzpeing",
        "kfgkF6eIOash"
      ]
    },
    "kernelspec": {
      "display_name": "Python 3",
      "name": "python3"
    }
  },
  "cells": [
    {
      "cell_type": "code",
      "metadata": {
        "id": "aYUvAjc7MqU_"
      },
      "source": [
        "import numpy as np\n",
        "import pandas as pd\n",
        "from sklearn.neighbors import KNeighborsClassifier\n",
        "from sklearn.metrics import accuracy_score\n",
        "from scipy.linalg import eigh"
      ],
      "execution_count": 4,
      "outputs": []
    },
    {
      "cell_type": "code",
      "metadata": {
        "colab": {
          "base_uri": "https://localhost:8080/"
        },
        "id": "-mIsAj0LEeMm",
        "outputId": "1acb50ab-2b2b-4fc2-f5be-84a9e8fae1b9"
      },
      "source": [
        "from google.colab import drive\n",
        "drive.mount('/content/drive')"
      ],
      "execution_count": 5,
      "outputs": [
        {
          "output_type": "stream",
          "text": [
            "Drive already mounted at /content/drive; to attempt to forcibly remount, call drive.mount(\"/content/drive\", force_remount=True).\n"
          ],
          "name": "stdout"
        }
      ]
    },
    {
      "cell_type": "markdown",
      "metadata": {
        "id": "gkG9PDn6Tnop"
      },
      "source": [
        "# Read and Load Data"
      ]
    },
    {
      "cell_type": "code",
      "metadata": {
        "id": "Osmx8UMXTjcN"
      },
      "source": [
        "from scipy.io import loadmat\n",
        "webcam = loadmat('webcam.mat')\n",
        "dslr = loadmat('dslr.mat')\n",
        "amazon = loadmat('amazon.mat')\n",
        "caltech = loadmat('caltech10.mat')"
      ],
      "execution_count": 6,
      "outputs": []
    },
    {
      "cell_type": "code",
      "metadata": {
        "id": "mqq-_9JsEbLG"
      },
      "source": [
        ""
      ],
      "execution_count": 6,
      "outputs": []
    },
    {
      "cell_type": "code",
      "metadata": {
        "id": "p82WhRkKQbv-"
      },
      "source": [
        "def loadX(data):\n",
        "  X = data['fts']\n",
        "\n",
        "  return X\n",
        "\n",
        "def loady(data):\n",
        "  y = data['labels']\n",
        "\n",
        "  return y"
      ],
      "execution_count": 7,
      "outputs": []
    },
    {
      "cell_type": "markdown",
      "metadata": {
        "id": "pbAzVVzpeing"
      },
      "source": [
        "# Scaling"
      ]
    },
    {
      "cell_type": "code",
      "metadata": {
        "id": "tSojYJNeeFjk"
      },
      "source": [
        "from sklearn.preprocessing import StandardScaler"
      ],
      "execution_count": 8,
      "outputs": []
    },
    {
      "cell_type": "code",
      "metadata": {
        "id": "d5tqutZnO0GI"
      },
      "source": [
        "def standarized(X):\n",
        "  \"\"\"\n",
        "  Return normalized features.\n",
        " \n",
        "  \"\"\"\n",
        "  X = StandardScaler().fit_transform(X)\n",
        "\n",
        "  return X"
      ],
      "execution_count": 9,
      "outputs": []
    },
    {
      "cell_type": "markdown",
      "metadata": {
        "id": "kfgkF6eIOash"
      },
      "source": [
        "# PC"
      ]
    },
    {
      "cell_type": "code",
      "metadata": {
        "id": "JPHD4YuJOcqa"
      },
      "source": [
        "def PC(X,d):\n",
        "  \"\"\"\n",
        "  Return d principle components with highest variance\n",
        "\n",
        "  \"\"\"\n",
        "  cov_mat = np.cov(X.T)\n",
        "  eig_vals, eig_vecs = eigh(cov_mat)\n",
        "  components = np.column_stack((eig_vecs[:,-i] for i in range(1,d+1)))\n",
        "\n",
        "  #n_components with highest variance\n",
        "  # var_exp = [(i / sum(eig_vals))*100 for i in sorted(eig_vals, reverse=True)]\n",
        "  # var_exp = np.cumsum(var_exp)\n",
        "\n",
        "  # import matplotlib.pyplot as plt\n",
        "  # plt.plot( var_exp)\n",
        "  # plt.xlabel('Number of components')\n",
        "  # plt.ylabel('Variance') \n",
        "  # plt.show()\n",
        "\n",
        "  return components"
      ],
      "execution_count": 10,
      "outputs": []
    },
    {
      "cell_type": "markdown",
      "metadata": {
        "id": "sSYM_B3iY4id"
      },
      "source": [
        "# Task 1.1"
      ]
    },
    {
      "cell_type": "markdown",
      "metadata": {
        "id": "JA3Sm5vPfXu7"
      },
      "source": [
        "Subspace Alignment"
      ]
    },
    {
      "cell_type": "code",
      "metadata": {
        "id": "O6cY0NFKQTwY"
      },
      "source": [
        "def subal(S,T,d):\n",
        "  Xs = PC(S, d)\n",
        "  Xt = PC(T, d)\n",
        "\n",
        "  # Defining the alignment matrix\n",
        "  M = np.dot(Xs.T, Xt)\n",
        "\n",
        "  # Computing Xa\n",
        "  Xa = np.dot(Xs, M)\n",
        "\n",
        "  # Computing source and target projected data \n",
        "  Sa = np.dot(S, Xa)\n",
        "  Ta = np.dot(T, Xt)\n",
        "\n",
        "  # Fitting a 1-NN classifier \n",
        "  KNN = KNeighborsClassifier(n_neighbors=1)\n",
        "  KNN.fit(Sa,yS)\n",
        "  pred= KNN.predict(Ta)\n",
        "\n",
        "  # Accuracy\n",
        "  print(accuracy_score(yT, pred))"
      ],
      "execution_count": 11,
      "outputs": []
    },
    {
      "cell_type": "markdown",
      "metadata": {
        "id": "dlqApt-J96nN"
      },
      "source": [
        "# Task 1.2\n"
      ]
    },
    {
      "cell_type": "markdown",
      "metadata": {
        "id": "Ve7f2sKBXLZp"
      },
      "source": [
        "Webcam being the source and dslr being target"
      ]
    },
    {
      "cell_type": "code",
      "metadata": {
        "id": "7kqnA3CHwZh-"
      },
      "source": [
        "# Load source and target features\n",
        "S = loadX(webcam)\n",
        "T = loadX(dslr)\n",
        "\n",
        "# Load Source and target labels\n",
        "yS = loady(webcam)\n",
        "yT = loady(dslr)"
      ],
      "execution_count": 12,
      "outputs": []
    },
    {
      "cell_type": "code",
      "metadata": {
        "id": "wAV4zfqGwhWo"
      },
      "source": [
        "# Scaling source and target features\n",
        "S = standarized(S)\n",
        "T = standarized(T)"
      ],
      "execution_count": 13,
      "outputs": []
    },
    {
      "cell_type": "code",
      "metadata": {
        "id": "CRzdVKqGwl-y",
        "colab": {
          "base_uri": "https://localhost:8080/"
        },
        "outputId": "fe229f56-a0d4-445e-9344-0cc141fc96c5"
      },
      "source": [
        "subal(S,T,96)"
      ],
      "execution_count": 14,
      "outputs": [
        {
          "output_type": "stream",
          "text": [
            "0.9235668789808917\n"
          ],
          "name": "stdout"
        },
        {
          "output_type": "stream",
          "text": [
            "/usr/local/lib/python3.6/dist-packages/ipykernel_launcher.py:8: FutureWarning: arrays to stack must be passed as a \"sequence\" type such as list or tuple. Support for non-sequence iterables such as generators is deprecated as of NumPy 1.16 and will raise an error in the future.\n",
            "  \n",
            "/usr/local/lib/python3.6/dist-packages/ipykernel_launcher.py:17: DataConversionWarning: A column-vector y was passed when a 1d array was expected. Please change the shape of y to (n_samples, ), for example using ravel().\n"
          ],
          "name": "stderr"
        }
      ]
    },
    {
      "cell_type": "markdown",
      "metadata": {
        "id": "QUwjdruVXWiv"
      },
      "source": [
        "Dslr being the source and webcam being target"
      ]
    },
    {
      "cell_type": "code",
      "metadata": {
        "id": "XDNRChu0WJeA"
      },
      "source": [
        "# Load source and target features\n",
        "S = loadX(dslr)\n",
        "T = loadX(webcam)\n",
        "\n",
        "# Load Source and target labels\n",
        "yS = loady(dslr)\n",
        "yT = loady(webcam)"
      ],
      "execution_count": 15,
      "outputs": []
    },
    {
      "cell_type": "code",
      "metadata": {
        "colab": {
          "base_uri": "https://localhost:8080/"
        },
        "id": "hxCSX1gSZtn2",
        "outputId": "9fb2c9bb-22d7-40ab-8610-843753e24c5a"
      },
      "source": [
        "subal(S,T,96)"
      ],
      "execution_count": 16,
      "outputs": [
        {
          "output_type": "stream",
          "text": [
            "0.6915254237288135\n"
          ],
          "name": "stdout"
        },
        {
          "output_type": "stream",
          "text": [
            "/usr/local/lib/python3.6/dist-packages/ipykernel_launcher.py:8: FutureWarning: arrays to stack must be passed as a \"sequence\" type such as list or tuple. Support for non-sequence iterables such as generators is deprecated as of NumPy 1.16 and will raise an error in the future.\n",
            "  \n",
            "/usr/local/lib/python3.6/dist-packages/ipykernel_launcher.py:17: DataConversionWarning: A column-vector y was passed when a 1d array was expected. Please change the shape of y to (n_samples, ), for example using ravel().\n"
          ],
          "name": "stderr"
        }
      ]
    },
    {
      "cell_type": "markdown",
      "metadata": {
        "id": "Acb-uWIFJ4g9"
      },
      "source": [
        "# Task 2.1"
      ]
    },
    {
      "cell_type": "markdown",
      "metadata": {
        "id": "ac6od2Gkf1fJ"
      },
      "source": [
        "Sinkhorn- knopp "
      ]
    },
    {
      "cell_type": "code",
      "metadata": {
        "id": "KkjXZRgg5E4W",
        "colab": {
          "base_uri": "https://localhost:8080/"
        },
        "outputId": "383b3583-ff19-4f5d-8d12-681ceceeabcc"
      },
      "source": [
        "pip install POT"
      ],
      "execution_count": 17,
      "outputs": [
        {
          "output_type": "stream",
          "text": [
            "Collecting POT\n",
            "\u001b[?25l  Downloading https://files.pythonhosted.org/packages/f8/22/67658e4b227fc52ce1c9bca522dfb3f0cc29a3536d1c7499feb3b0042a41/POT-0.7.0-cp36-cp36m-manylinux2010_x86_64.whl (428kB)\n",
            "\r\u001b[K     |▊                               | 10kB 15.1MB/s eta 0:00:01\r\u001b[K     |█▌                              | 20kB 9.7MB/s eta 0:00:01\r\u001b[K     |██▎                             | 30kB 8.1MB/s eta 0:00:01\r\u001b[K     |███                             | 40kB 7.1MB/s eta 0:00:01\r\u001b[K     |███▉                            | 51kB 4.3MB/s eta 0:00:01\r\u001b[K     |████▋                           | 61kB 4.7MB/s eta 0:00:01\r\u001b[K     |█████▍                          | 71kB 4.8MB/s eta 0:00:01\r\u001b[K     |██████▏                         | 81kB 5.3MB/s eta 0:00:01\r\u001b[K     |██████▉                         | 92kB 5.5MB/s eta 0:00:01\r\u001b[K     |███████▋                        | 102kB 5.6MB/s eta 0:00:01\r\u001b[K     |████████▍                       | 112kB 5.6MB/s eta 0:00:01\r\u001b[K     |█████████▏                      | 122kB 5.6MB/s eta 0:00:01\r\u001b[K     |██████████                      | 133kB 5.6MB/s eta 0:00:01\r\u001b[K     |██████████▊                     | 143kB 5.6MB/s eta 0:00:01\r\u001b[K     |███████████▌                    | 153kB 5.6MB/s eta 0:00:01\r\u001b[K     |████████████▎                   | 163kB 5.6MB/s eta 0:00:01\r\u001b[K     |█████████████                   | 174kB 5.6MB/s eta 0:00:01\r\u001b[K     |█████████████▊                  | 184kB 5.6MB/s eta 0:00:01\r\u001b[K     |██████████████▌                 | 194kB 5.6MB/s eta 0:00:01\r\u001b[K     |███████████████▎                | 204kB 5.6MB/s eta 0:00:01\r\u001b[K     |████████████████                | 215kB 5.6MB/s eta 0:00:01\r\u001b[K     |████████████████▉               | 225kB 5.6MB/s eta 0:00:01\r\u001b[K     |█████████████████▋              | 235kB 5.6MB/s eta 0:00:01\r\u001b[K     |██████████████████▍             | 245kB 5.6MB/s eta 0:00:01\r\u001b[K     |███████████████████             | 256kB 5.6MB/s eta 0:00:01\r\u001b[K     |███████████████████▉            | 266kB 5.6MB/s eta 0:00:01\r\u001b[K     |████████████████████▋           | 276kB 5.6MB/s eta 0:00:01\r\u001b[K     |█████████████████████▍          | 286kB 5.6MB/s eta 0:00:01\r\u001b[K     |██████████████████████▏         | 296kB 5.6MB/s eta 0:00:01\r\u001b[K     |███████████████████████         | 307kB 5.6MB/s eta 0:00:01\r\u001b[K     |███████████████████████▊        | 317kB 5.6MB/s eta 0:00:01\r\u001b[K     |████████████████████████▌       | 327kB 5.6MB/s eta 0:00:01\r\u001b[K     |█████████████████████████▏      | 337kB 5.6MB/s eta 0:00:01\r\u001b[K     |██████████████████████████      | 348kB 5.6MB/s eta 0:00:01\r\u001b[K     |██████████████████████████▊     | 358kB 5.6MB/s eta 0:00:01\r\u001b[K     |███████████████████████████▌    | 368kB 5.6MB/s eta 0:00:01\r\u001b[K     |████████████████████████████▎   | 378kB 5.6MB/s eta 0:00:01\r\u001b[K     |█████████████████████████████   | 389kB 5.6MB/s eta 0:00:01\r\u001b[K     |█████████████████████████████▉  | 399kB 5.6MB/s eta 0:00:01\r\u001b[K     |██████████████████████████████▋ | 409kB 5.6MB/s eta 0:00:01\r\u001b[K     |███████████████████████████████▎| 419kB 5.6MB/s eta 0:00:01\r\u001b[K     |████████████████████████████████| 430kB 5.6MB/s \n",
            "\u001b[?25hRequirement already satisfied: numpy>=1.16 in /usr/local/lib/python3.6/dist-packages (from POT) (1.18.5)\n",
            "Requirement already satisfied: scipy>=1.0 in /usr/local/lib/python3.6/dist-packages (from POT) (1.4.1)\n",
            "Requirement already satisfied: cython>=0.23 in /usr/local/lib/python3.6/dist-packages (from POT) (0.29.21)\n",
            "Installing collected packages: POT\n",
            "Successfully installed POT-0.7.0\n"
          ],
          "name": "stdout"
        }
      ]
    },
    {
      "cell_type": "code",
      "metadata": {
        "id": "8mERnBpsfKtb"
      },
      "source": [
        "import ot\n",
        "import scipy\n",
        "from scipy.spatial import distance"
      ],
      "execution_count": 23,
      "outputs": []
    },
    {
      "cell_type": "code",
      "metadata": {
        "id": "PBuOdkFKfM7P"
      },
      "source": [
        "def sinkhorn(S,T,reg_e):\n",
        "  a = np.ones(S.shape[0])\n",
        "  b = np.ones(T.shape[0])\n",
        "\n",
        "  M = scipy.spatial.distance.cdist(S,T)\n",
        "\n",
        "  from sklearn import preprocessing\n",
        "  M_norm = preprocessing.normalize(M,\"max\")\n",
        "\n",
        "  G = ot.sinkhorn(a,b,M_norm, reg_e)\n",
        "  Sa = np.dot(G,T)\n",
        "  Sa = Sa.astype(np.float64)\n",
        "\n",
        "  # Fitting a 1-NN classifier\n",
        "  from sklearn.neighbors import KNeighborsClassifier\n",
        "  KNN = KNeighborsClassifier(n_neighbors=1)\n",
        "  KNN.fit(Sa, yS)\n",
        "  pred = KNN.predict(T)\n",
        "  print(accuracy_score(yT, pred))\n",
        "\n"
      ],
      "execution_count": 19,
      "outputs": []
    },
    {
      "cell_type": "markdown",
      "metadata": {
        "id": "g_KFWHN0xBtj"
      },
      "source": [
        "# Task 2.2"
      ]
    },
    {
      "cell_type": "markdown",
      "metadata": {
        "id": "u6Xvo7GXfOue"
      },
      "source": [
        "Webcam being the source and dslr being the target"
      ]
    },
    {
      "cell_type": "code",
      "metadata": {
        "id": "v9CbbxAgSHQh"
      },
      "source": [
        "# Load source and target features\n",
        "S = loadX(webcam)\n",
        "T = loadX(dslr)\n",
        "\n",
        "# Load Source and target labels\n",
        "yS = loady(webcam)\n",
        "yT = loady(dslr)"
      ],
      "execution_count": 20,
      "outputs": []
    },
    {
      "cell_type": "code",
      "metadata": {
        "id": "9UkFzo-4Z6_o"
      },
      "source": [
        "# Scaling source and target features\n",
        "S = standarized(S)\n",
        "T = standarized(T)"
      ],
      "execution_count": 21,
      "outputs": []
    },
    {
      "cell_type": "code",
      "metadata": {
        "id": "9U772jSqJ6Ve",
        "colab": {
          "base_uri": "https://localhost:8080/"
        },
        "outputId": "766d342d-77df-4d9a-c1a7-ca05d7111ff6"
      },
      "source": [
        "sinkhorn(S,T,0.01)"
      ],
      "execution_count": 25,
      "outputs": [
        {
          "output_type": "stream",
          "text": [
            "0.821656050955414\n"
          ],
          "name": "stdout"
        },
        {
          "output_type": "stream",
          "text": [
            "/usr/local/lib/python3.6/dist-packages/ipykernel_launcher.py:17: DataConversionWarning: A column-vector y was passed when a 1d array was expected. Please change the shape of y to (n_samples, ), for example using ravel().\n"
          ],
          "name": "stderr"
        }
      ]
    },
    {
      "cell_type": "markdown",
      "metadata": {
        "id": "tdIKmYFjg6-r"
      },
      "source": [
        "Dslr being the source and webcam being the target"
      ]
    },
    {
      "cell_type": "code",
      "metadata": {
        "id": "-zhoBTtRxqbm"
      },
      "source": [
        "# Load source and target features\n",
        "S = loadX(dslr)\n",
        "T = loadX(webcam)\n",
        "\n",
        "# Load Source and target labels\n",
        "yS = loady(dslr)\n",
        "yT = loady(webcam)"
      ],
      "execution_count": 26,
      "outputs": []
    },
    {
      "cell_type": "code",
      "metadata": {
        "id": "G44DRzkShDjw"
      },
      "source": [
        "# Scaling source and target features\n",
        "S = standarized(S)\n",
        "T = standarized(T)"
      ],
      "execution_count": 27,
      "outputs": []
    },
    {
      "cell_type": "code",
      "metadata": {
        "colab": {
          "base_uri": "https://localhost:8080/"
        },
        "id": "wbuUTbndhHEi",
        "outputId": "a64277ba-ec64-42a0-ed23-f876d4bef089"
      },
      "source": [
        "sinkhorn(S,T,0.01)"
      ],
      "execution_count": 28,
      "outputs": [
        {
          "output_type": "stream",
          "text": [
            "Warning: numerical errors at iteration 987\n",
            "0.7389830508474576\n"
          ],
          "name": "stdout"
        },
        {
          "output_type": "stream",
          "text": [
            "/usr/local/lib/python3.6/dist-packages/ot/bregman.py:363: RuntimeWarning: overflow encountered in true_divide\n",
            "  v = np.divide(b, KtransposeU)\n",
            "/usr/local/lib/python3.6/dist-packages/ipykernel_launcher.py:17: DataConversionWarning: A column-vector y was passed when a 1d array was expected. Please change the shape of y to (n_samples, ), for example using ravel().\n"
          ],
          "name": "stderr"
        }
      ]
    },
    {
      "cell_type": "code",
      "metadata": {
        "id": "93Wo4N80hLSg"
      },
      "source": [
        ""
      ],
      "execution_count": null,
      "outputs": []
    }
  ]
}